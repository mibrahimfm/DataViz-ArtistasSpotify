{
  "nbformat": 4,
  "nbformat_minor": 0,
  "metadata": {
    "colab": {
      "provenance": []
    },
    "kernelspec": {
      "name": "python3",
      "display_name": "Python 3"
    },
    "language_info": {
      "name": "python"
    }
  },
  "cells": [
    {
      "cell_type": "markdown",
      "source": [
        "# Q10: Estudo de sucesso por ano de cada artista (ver qual foi o máximo que cada artista chegou em cada ano, ver quantos lançamentos por ano cada artista faz)\n"
      ],
      "metadata": {
        "id": "TCROF37gjzdk"
      }
    },
    {
      "cell_type": "code",
      "execution_count": null,
      "metadata": {
        "id": "IOKg9XBqjoLk"
      },
      "outputs": [],
      "source": [
        "# Imports\n",
        "\n",
        "import pandas as pd\n",
        "from plotnine import *"
      ]
    },
    {
      "cell_type": "code",
      "source": [
        "# Datasets\n",
        "\n",
        "beatles_df = pd.DataFrame(pd.read_csv(\"./Artista_data/beatles_spotify.csv\", sep=','))\n",
        "beatles_df[\"artist\"] = \"The Beatles\"\n",
        "\n",
        "ed_sheeran_df = pd.DataFrame(pd.read_csv(\"./Artista_data/ed_sheeran_spotify.csv\", sep=','))\n",
        "ed_sheeran_df[\"artist\"] = \"Ed Sheeran\"\n",
        "\n",
        "elton_john_df = pd.DataFrame(pd.read_csv(\"./Artista_data/elton_john_spotify.csv\", sep=','))\n",
        "elton_john_df[\"artist\"] = \"Elton John\"\n",
        "\n",
        "metallica_df = pd.DataFrame(pd.read_csv(\"./Artista_data/metallica_spotify.csv\", sep=','))\n",
        "metallica_df[\"artist\"] = \"Metallica\"\n",
        "\n",
        "rolling_stones_df = pd.DataFrame(pd.read_csv(\"./Artista_data/rolling_stones_spotify.csv\", sep=','))\n",
        "rolling_stones_df[\"artist\"] = \"Rolling Stones\"\n",
        "\n",
        "tame_impala_df = pd.DataFrame(pd.read_csv(\"./Artista_data/tame_impala_spotify.csv\", sep=','))\n",
        "tame_impala_df[\"artist\"] = \"Tame Impala\"\n",
        "\n",
        "taylor_swift_df = pd.DataFrame(pd.read_csv(\"./Artista_data/taylor_swift_spotify.csv\", sep=','))\n",
        "taylor_swift_df[\"artist\"] = \"Taylor Swift\"\n",
        "\n",
        "artists_df = pd.concat([beatles_df, ed_sheeran_df, elton_john_df, metallica_df, rolling_stones_df, tame_impala_df, taylor_swift_df])\n",
        "artists_df[\"release_date\"] = pd.to_datetime(artists_df[\"release_date\"], format='mixed')\n",
        "artists_df['year'] = artists_df['release_date'].dt.year\n",
        "\n",
        "artists_df"
      ],
      "metadata": {
        "id": "oMtY_uCpjrBt"
      },
      "execution_count": null,
      "outputs": []
    },
    {
      "cell_type": "code",
      "source": [
        "# um gráfico com qual foi o máximo que cada artista chegou em cada ano e ver quantos lançamentos por ano cada artista faz, trazendo o dataset já importado nesse projeto\n",
        "\n",
        "import pandas as pd\n",
        "# Calculate the maximum popularity for each artist in each year\n",
        "max_popularity_by_year = artists_df.groupby(['artist', 'year'])['popularity'].max().reset_index()\n",
        "\n",
        "# Calculate the number of releases for each artist in each year\n",
        "releases_by_year = artists_df.groupby(['artist', 'year'])['release_date'].count().reset_index(name='releases')\n",
        "\n",
        "# Merge the two dataframes\n",
        "merged_df = pd.merge(max_popularity_by_year, releases_by_year, on=['artist', 'year'])\n",
        "\n",
        "# Create a line chart of maximum popularity and a bar chart of releases by year for each artist\n",
        "(ggplot(merged_df, aes(x='year', y='popularity', color='artist'))\n",
        " + geom_line()\n",
        " + geom_bar(aes(y='releases'), stat='identity')\n",
        " + facet_wrap('~artist')\n",
        " + labs(title='Maximum Popularity and Releases by Year for Each Artist', x='Year', y='Popularity/Releases')\n",
        " + theme(axis_text_x=element_text(rotation=45, hjust=1),\n",
        "        figure_size=(9, 6)))\n"
      ],
      "metadata": {
        "id": "Thai9WPgjsBu"
      },
      "execution_count": null,
      "outputs": []
    }
  ]
}